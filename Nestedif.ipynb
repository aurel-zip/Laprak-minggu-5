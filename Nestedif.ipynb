{
  "nbformat": 4,
  "nbformat_minor": 0,
  "metadata": {
    "colab": {
      "provenance": []
    },
    "kernelspec": {
      "name": "python3",
      "display_name": "Python 3"
    },
    "language_info": {
      "name": "python"
    }
  },
  "cells": [
    {
      "cell_type": "markdown",
      "source": [
        "# **Weekly Exercise 1**"
      ],
      "metadata": {
        "id": "L8wOrYum_MQP"
      }
    },
    {
      "cell_type": "code",
      "source": [
        "tahun = int (input(\"tahun =\"))\n",
        "\n",
        "if tahun % 4 == 0:\n",
        "  print(\"tahun kabisat\")\n",
        "elif tahun % 100 == 0:\n",
        "  print(\"bukan tahun kabisat\")\n",
        "elif tahun % 500 == 0:\n",
        "  print(\"bukan tahun kabisat\")\n",
        "else:\n",
        "  print(\"bukan tahun kabisat\")"
      ],
      "metadata": {
        "colab": {
          "base_uri": "https://localhost:8080/"
        },
        "id": "NKm4FYpl8N0w",
        "outputId": "538b5217-54fe-4d35-ac12-010624e6a481"
      },
      "execution_count": null,
      "outputs": [
        {
          "output_type": "stream",
          "name": "stdout",
          "text": [
            "tahun = 1996\n",
            "tahun kabisat\n"
          ]
        }
      ]
    },
    {
      "cell_type": "code",
      "source": [
        "tahun = int (input(\"tahun =\"))\n",
        "\n",
        "if tahun % 4 == 0:\n",
        "  print(\"tahun kabisat\")\n",
        "elif tahun % 100 == 0:\n",
        "  print(\"bukan tahun kabisat\")\n",
        "elif tahun % 500 == 0:\n",
        "  print(\"bukan tahun kabisat\")\n",
        "else:\n",
        "  print(\"bukan tahun kabisat\")"
      ],
      "metadata": {
        "colab": {
          "base_uri": "https://localhost:8080/"
        },
        "id": "0u35suIL8h1X",
        "outputId": "765233fd-95bc-4469-b42f-410f01c68eab"
      },
      "execution_count": null,
      "outputs": [
        {
          "output_type": "stream",
          "name": "stdout",
          "text": [
            "tahun =2017\n",
            "bukan tahun kabisat\n"
          ]
        }
      ]
    },
    {
      "cell_type": "markdown",
      "source": [
        "# **Weekly Exercise 2**\n"
      ],
      "metadata": {
        "id": "7uKh6hxa_P02"
      }
    },
    {
      "cell_type": "code",
      "source": [
        "angka1 = int (input(\"Masukkan angka pertama= \"))\n",
        "angka2 = int (input(\"Masukkan angka kedua= \"))\n",
        "angka3 = int (input(\"Masukkan angka ketiga= \"))\n",
        "print(\"\\n\")\n",
        "if angka1 >= angka2 and angka1 >= angka3:\n",
        "  terbesar = angka1\n",
        "elif angka2 >= angka1 and angka2 >= angka3:\n",
        "  terbesar = angka2\n",
        "else:\n",
        "  terbesar = angka3\n",
        "\n",
        "print(f\"Angka pertama= {angka1}\")\n",
        "print(f\"Angka kedua= {angka2}\")\n",
        "print(f\"Angka ketiga= {angka3}\")\n",
        "print(f\"Angka terbesar adalah= {terbesar}\")"
      ],
      "metadata": {
        "id": "jYZrdX3I_UPG",
        "colab": {
          "base_uri": "https://localhost:8080/"
        },
        "outputId": "4be1a8a1-425c-423c-c2ad-575106f92091"
      },
      "execution_count": null,
      "outputs": [
        {
          "output_type": "stream",
          "name": "stdout",
          "text": [
            "Masukkan angka pertama= 17\n",
            "Masukkan angka kedua= 6\n",
            "Masukkan angka ketiga= 15\n",
            "\n",
            "\n",
            "Angka pertama= 17\n",
            "Angka kedua= 6\n",
            "Angka ketiga= 15\n",
            "Angka terbesar adalah= 17\n"
          ]
        }
      ]
    },
    {
      "cell_type": "markdown",
      "source": [
        "# **Weekly Exercise 3**"
      ],
      "metadata": {
        "id": "Vvik6k2_5dGQ"
      }
    },
    {
      "cell_type": "code",
      "source": [
        "total_belanjaan = int (input(\"Total belanja= \"))\n",
        "member = input(\"Member? (ya/tidak)= \").lower() == \"ya\"\n",
        "diskon = 0\n",
        "\n",
        "if total_belanjaan > 100000:\n",
        "  diskon += 3\n",
        "elif total_belanjaan > 200000:\n",
        "  diskon += 4\n",
        "\n",
        "if member:\n",
        "  diskon += 2\n",
        "\n",
        "jml_diskon = (diskon / 100) * total_belanjaan\n",
        "total_bayar = total_belanjaan - jml_diskon\n",
        "\n",
        "print(f\"total yang dibayar= Rp.{total_bayar: .2f}\")"
      ],
      "metadata": {
        "colab": {
          "base_uri": "https://localhost:8080/"
        },
        "id": "u71DESHf5lRU",
        "outputId": "683d47c8-dd26-4220-c05a-7596222870ac"
      },
      "execution_count": 1,
      "outputs": [
        {
          "output_type": "stream",
          "name": "stdout",
          "text": [
            "Total belanja= 526000\n",
            "Member? (ya/tidak)= ya\n",
            "total yang dibayar= Rp. 499700.00\n"
          ]
        }
      ]
    },
    {
      "cell_type": "code",
      "source": [
        "total_belanjaan = int (input(\"Total belanja= \"))\n",
        "member = input(\"Member? (ya/tidak)= \").lower() == \"ya\"\n",
        "diskon = 0\n",
        "\n",
        "if total_belanjaan > 100000:\n",
        "  diskon += 3\n",
        "elif total_belanjaan > 200000:\n",
        "  diskon += 4\n",
        "\n",
        "if member:\n",
        "  diskon += 2\n",
        "\n",
        "jml_diskon = (diskon / 100) * total_belanjaan\n",
        "total_bayar = total_belanjaan - jml_diskon\n",
        "\n",
        "print(f\"total yang dibayar= Rp.{total_bayar: .2f}\")"
      ],
      "metadata": {
        "colab": {
          "base_uri": "https://localhost:8080/"
        },
        "id": "-n35Yw5hEwLF",
        "outputId": "5a850c48-9ead-43d7-b48e-662ac64d8a52"
      },
      "execution_count": 2,
      "outputs": [
        {
          "output_type": "stream",
          "name": "stdout",
          "text": [
            "Total belanja= 170000\n",
            "Member? (ya/tidak)= tidak\n",
            "total yang dibayar= Rp. 164900.00\n"
          ]
        }
      ]
    },
    {
      "cell_type": "markdown",
      "source": [
        "# **Weekly Exercise 4**"
      ],
      "metadata": {
        "id": "iWj8RgdsJuj6"
      }
    },
    {
      "cell_type": "code",
      "source": [
        "username = input(\"Masukkan username= \")\n",
        "password = input(\"Masukkan password= \")\n",
        "email = input(\"Masukkan email= \")\n",
        "\n",
        "if username:\n",
        "  if \"@gmail.com\" in email:\n",
        "    if len(password) >= 8:\n",
        "      print(\"User telah berhasil dibuat\")\n",
        "    else:\n",
        "      print(\"Password harus memiliki minimal 8 karakter\")\n",
        "  else:\n",
        "    print(\"Email tidak valid\")\n",
        "else:\n",
        "  print(\"Username tidak valid\")"
      ],
      "metadata": {
        "colab": {
          "base_uri": "https://localhost:8080/"
        },
        "id": "j1qKXFgbJyT9",
        "outputId": "d70f942d-0077-437f-a8b3-e7f4c85d4553"
      },
      "execution_count": null,
      "outputs": [
        {
          "output_type": "stream",
          "name": "stdout",
          "text": [
            "Masukkan username= aurelkwon\n",
            "Masukkan password= aurelloafsoonyoung\n",
            "Masukkan email= kwnaurel@gmail.com\n",
            "User telah berhasil dibuat\n"
          ]
        }
      ]
    },
    {
      "cell_type": "code",
      "source": [
        "username = input(\"Masukkan username= \")\n",
        "password = input(\"Masukkan password= \")\n",
        "email = input(\"Masukkan email= \")\n",
        "\n",
        "if username:\n",
        "  if \"@gmail.com\" in email:\n",
        "    if len(password) >= 8:\n",
        "      print(\"User telah berhasil dibuat\")\n",
        "    else:\n",
        "      print(\"Password harus memiliki minimal 8 karakter\")\n",
        "  else:\n",
        "    print(\"Email tidak valid\")\n",
        "else:\n",
        "  print(\"Username tidak valid\")"
      ],
      "metadata": {
        "colab": {
          "base_uri": "https://localhost:8080/"
        },
        "id": "B05BSN_yNoU8",
        "outputId": "ddfb77c4-145a-4a71-aa60-b7628bcbb509"
      },
      "execution_count": null,
      "outputs": [
        {
          "output_type": "stream",
          "name": "stdout",
          "text": [
            "Masukkan username= \n",
            "Masukkan password= saythenamesvt\n",
            "Masukkan email= saythename@gmail.com\n",
            "Username tidak valid\n"
          ]
        }
      ]
    },
    {
      "cell_type": "code",
      "source": [
        "username = input(\"Masukkan username= \")\n",
        "password = input(\"Masukkan password= \")\n",
        "email = input(\"Masukkan email= \")\n",
        "\n",
        "if username:\n",
        "  if \"@gmail.com\" in email:\n",
        "    if len(password) >= 8:\n",
        "      print(\"User telah berhasil dibuat\")\n",
        "    else:\n",
        "      print(\"Password harus memiliki minimal 8 karakter\")\n",
        "  else:\n",
        "    print(\"Email tidak valid\")\n",
        "else:\n",
        "  print(\"Username tidak valid\")"
      ],
      "metadata": {
        "colab": {
          "base_uri": "https://localhost:8080/"
        },
        "id": "HTZmPD5cNyDz",
        "outputId": "311a6944-7d11-4cfb-b354-c12e17ab2af4"
      },
      "execution_count": null,
      "outputs": [
        {
          "output_type": "stream",
          "name": "stdout",
          "text": [
            "Masukkan username= hochi\n",
            "Masukkan password= latte\n",
            "Masukkan email= hochingies@gmail.com\n",
            "Password harus memiliki minimal 8 karakter\n"
          ]
        }
      ]
    },
    {
      "cell_type": "code",
      "source": [
        "username = input(\"Masukkan username= \")\n",
        "password = input(\"Masukkan password= \")\n",
        "email = input(\"Masukkan email= \")\n",
        "\n",
        "if username:\n",
        "  if \"@gmail.com\" in email:\n",
        "    if len(password) >= 8:\n",
        "      print(\"User telah berhasil dibuat\")\n",
        "    else:\n",
        "      print(\"Password harus memiliki minimal 8 karakter\")\n",
        "  else:\n",
        "    print(\"Email tidak valid\")\n",
        "else:\n",
        "  print(\"Username tidak valid\")"
      ],
      "metadata": {
        "colab": {
          "base_uri": "https://localhost:8080/"
        },
        "id": "sD2hpwoKN6M-",
        "outputId": "fc46aba9-cf08-4c7a-e3f8-359fe8d43221"
      },
      "execution_count": null,
      "outputs": [
        {
          "output_type": "stream",
          "name": "stdout",
          "text": [
            "Masukkan username= soonyoung\n",
            "Masukkan password= kwnsy1996\n",
            "Masukkan email= ksy@cookie.com\n",
            "Email tidak valid\n"
          ]
        }
      ]
    }
  ]
}